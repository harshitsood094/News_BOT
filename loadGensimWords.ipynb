{
 "cells": [
  {
   "cell_type": "code",
   "execution_count": null,
   "metadata": {},
   "outputs": [],
   "source": [
    "import gzip\n",
    "import gensim \n",
    "import logging\n",
    "logging.basicConfig(format='(asctime)s : %(levelname)s : %(message)s', level=logging.INFO)\n",
    "import os\n",
    "import tempfile\n",
    "TEMP_FOLDER = tempfile.gettempdir()\n",
    "print('Folder \"{}\" will be used to save temporary dictionary and corpus.'.format(TEMP_FOLDER))\n",
    "from datetime import timedelta, date\n",
    "import numpy as np\n",
    "import pandas as pd\n",
    "import os\n",
    "import time"
   ]
  },
  {
   "cell_type": "code",
   "execution_count": null,
   "metadata": {
    "collapsed": true
   },
   "outputs": [],
   "source": [
    "import pickle\n",
    "pickle_in = open(\"model.pickle\",\"rb\")\n",
    "model = pickle.load(pickle_in)\n",
    "pickle_in.close()"
   ]
  },
  {
   "cell_type": "code",
   "execution_count": null,
   "metadata": {
    "collapsed": true
   },
   "outputs": [],
   "source": [
    "def getList(arr):\n",
    "    return [kv[0] for kv in arr]\n",
    "\n",
    "def getTheDeal(words,n):\n",
    "    return getList(model.wv.most_similar(words, topn=n))\n",
    "    \n",
    "def getBothThings(words,n):\n",
    "    return (words,getTheDeal(words,n))"
   ]
  },
  {
   "cell_type": "code",
   "execution_count": null,
   "metadata": {
    "collapsed": true
   },
   "outputs": [],
   "source": [
    "statesAroundDelhi = [\"punjab\",\"haryana\",\"rajasthan\"]\n",
    "pradesh = [\"madhya\",\"uttar\",\"himachal\"]\n",
    "\n",
    "directions = [\"south\",\"west\",\"east\",\"north\"]"
   ]
  },
  {
   "cell_type": "code",
   "execution_count": null,
   "metadata": {
    "collapsed": true
   },
   "outputs": [],
   "source": [
    "setOfWordsIcareAbout = []"
   ]
  },
  {
   "cell_type": "code",
   "execution_count": null,
   "metadata": {
    "collapsed": true
   },
   "outputs": [],
   "source": [
    "setOfWordsIcareAbout = []\n",
    "\n",
    "#accounting for fire\n",
    "\n",
    "setOfWordsIcareAbout.extend([word,\"pradesh\",\"fire\"] for word in pradesh)\n",
    "setOfWordsIcareAbout.extend([word,\"fire\"] for word in statesAroundDelhi)\n",
    "\n",
    "#maybe tryna account for winds?\n",
    "setOfWordsIcareAbout.extend([[word,\"winds\",\"delhi\"]for word in directions])\n",
    "\n",
    "#dust only\n",
    "setOfWordsIcareAbout.append([\"dust\",\"delhi\"])\n",
    "\n",
    "#smog only\n",
    "setOfWordsIcareAbout.append([\"smog\",\"delhi\"])\n",
    "\n",
    "#pollution only\n",
    "setOfWordsIcareAbout.append([\"pollution\",\"delhi\"])\n",
    "setOfWordsIcareAbout.append([\"suffocation\",\"delhi\"])\n",
    "\n",
    "#dust and smog\n",
    "setOfWordsIcareAbout.append([\"dust\",\"smog\",\"delhi\"])\n",
    "\n",
    "setOfWordsIcareAbout.append([\"cold\",\"smog\",\"delhi\"])\n",
    "\n",
    "setOfWordsIcareAbout.append([\"pollution\",\"smog\",\"delhi\"])\n",
    "\n",
    "#general\n",
    "setOfWordsIcareAbout.extend([[\"gurgaon\",\"pollution\"],[\"dpcc\",\"alert\"],[\"delhi\",\"cold\"]])"
   ]
  },
  {
   "cell_type": "code",
   "execution_count": null,
   "metadata": {},
   "outputs": [],
   "source": [
    "setOfWordsIcareAbout"
   ]
  },
  {
   "cell_type": "code",
   "execution_count": null,
   "metadata": {
    "collapsed": true
   },
   "outputs": [],
   "source": [
    "finalAnswer = {}\n",
    "send_words = set()\n",
    "for i,v in enumerate(setOfWordsIcareAbout):\n",
    "    finalAnswer[i] = {}\n",
    "    finalAnswer[i]['keyWords'], finalAnswer[i]['relatedWords'] = getBothThings(v,50)\n",
    "    send_words = send_words.union(finalAnswer[i]['relatedWords'])"
   ]
  },
  {
   "cell_type": "code",
   "execution_count": null,
   "metadata": {},
   "outputs": [],
   "source": [
    "finalAnswer"
   ]
  },
  {
   "cell_type": "code",
   "execution_count": null,
   "metadata": {},
   "outputs": [],
   "source": [
    "send_words"
   ]
  },
  {
   "cell_type": "code",
   "execution_count": null,
   "metadata": {
    "collapsed": true
   },
   "outputs": [],
   "source": [
    "import json\n",
    "with open('finalJson.json','w') as f:\n",
    "    json.dump(finalAnswer,f)"
   ]
  },
  {
   "cell_type": "code",
   "execution_count": null,
   "metadata": {
    "collapsed": true
   },
   "outputs": [],
   "source": [
    "with open('finalJson.json','r') as f:\n",
    "    handmeback = json.load(f)"
   ]
  },
  {
   "cell_type": "code",
   "execution_count": null,
   "metadata": {},
   "outputs": [],
   "source": [
    "handmeback"
   ]
  },
  {
   "cell_type": "code",
   "execution_count": 1,
   "metadata": {
    "collapsed": true
   },
   "outputs": [],
   "source": [
    "import pickle as p"
   ]
  },
  {
   "cell_type": "code",
   "execution_count": null,
   "metadata": {},
   "outputs": [],
   "source": [
    "with open('setOfWords.pickle','wb') as fp:\n",
    "    p.dump(send_words,fp)"
   ]
  },
  {
   "cell_type": "code",
   "execution_count": 2,
   "metadata": {},
   "outputs": [
    {
     "ename": "EOFError",
     "evalue": "Ran out of input",
     "output_type": "error",
     "traceback": [
      "\u001b[0;31m---------------------------------------------------------------------------\u001b[0m",
      "\u001b[0;31mEOFError\u001b[0m                                  Traceback (most recent call last)",
      "\u001b[0;32m<ipython-input-2-0369b470ce27>\u001b[0m in \u001b[0;36m<module>\u001b[0;34m()\u001b[0m\n\u001b[1;32m      1\u001b[0m \u001b[0;32mwith\u001b[0m \u001b[0mopen\u001b[0m\u001b[0;34m(\u001b[0m\u001b[0;34m'setOfWords.pickle'\u001b[0m\u001b[0;34m,\u001b[0m\u001b[0;34m'rb'\u001b[0m\u001b[0;34m)\u001b[0m \u001b[0;32mas\u001b[0m \u001b[0mfp\u001b[0m\u001b[0;34m:\u001b[0m\u001b[0;34m\u001b[0m\u001b[0m\n\u001b[0;32m----> 2\u001b[0;31m     \u001b[0mret_set\u001b[0m \u001b[0;34m=\u001b[0m \u001b[0mp\u001b[0m\u001b[0;34m.\u001b[0m\u001b[0mload\u001b[0m\u001b[0;34m(\u001b[0m\u001b[0mfp\u001b[0m\u001b[0;34m)\u001b[0m\u001b[0;34m\u001b[0m\u001b[0m\n\u001b[0m",
      "\u001b[0;31mEOFError\u001b[0m: Ran out of input"
     ]
    }
   ],
   "source": [
    "with open('setOfWords.pickle','rb') as fp:\n",
    "    ret_set = p.load(fp)"
   ]
  },
  {
   "cell_type": "code",
   "execution_count": null,
   "metadata": {},
   "outputs": [],
   "source": [
    "len(ret_set)"
   ]
  },
  {
   "cell_type": "code",
   "execution_count": null,
   "metadata": {
    "collapsed": true
   },
   "outputs": [],
   "source": [
    "ret"
   ]
  }
 ],
 "metadata": {
  "kernelspec": {
   "display_name": "Python 3",
   "language": "python",
   "name": "python3"
  },
  "language_info": {
   "codemirror_mode": {
    "name": "ipython",
    "version": 3
   },
   "file_extension": ".py",
   "mimetype": "text/x-python",
   "name": "python",
   "nbconvert_exporter": "python",
   "pygments_lexer": "ipython3",
   "version": "3.6.5"
  }
 },
 "nbformat": 4,
 "nbformat_minor": 2
}
